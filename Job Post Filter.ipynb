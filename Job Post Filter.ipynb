{
 "cells": [
  {
   "cell_type": "markdown",
   "metadata": {},
   "source": [
    "# Predicting Fake Job Posts\n",
    "Sam Lademan and Sam Rossi"
   ]
  },
  {
   "cell_type": "markdown",
   "metadata": {},
   "source": [
    "# Introduction"
   ]
  },
  {
   "cell_type": "markdown",
   "metadata": {},
   "source": [
    "For our end to end machine learning project, we decided to analyze a data set which contained several job postings. The data set in question contained fraudulent posts as well as genuine ones. As seniors who are beginning our post-college careers, it is important for us to avoid such fraudulent posts. So, we decided to build a project to help predict if a job posting is real or fake.\n",
    "The input to our algorithm is a list of words found in job descriptions and titles. We then use different classification models, including a GaussianNB, a Support Vector Machine, BernoulliNB, and linear regression algorithm, to output how accurate the model is when making a prediction upon whether or not a job posting is fraudulent.\n",
    "\n",
    "Dataset used: https://www.kaggle.com/shivamb/real-or-fake-fake-jobposting-prediction"
   ]
  },
  {
   "cell_type": "markdown",
   "metadata": {},
   "source": [
    "# Related Work\n",
    "Kaggle, where we found this data set, shows other works that individuals have done on each data set. For our data set, one specific user also created models to predict if a job posting was real or fake. For intial exploration of the data set, we used similar methods to this work as a full understanding of the data set was needed in both their and our experiments. This user applied a method of RandomOverSampling to attempt to balance the dataset, which we did not do. Additionally, they created models through use of a DecisionTreeClassifier and a RandomForestClassfier. Once again, we did not duplicate these methods, instead opting for other classification techniques.\n",
    "\n",
    "Link to research: https://www.kaggle.com/niladri54/real-or-fake-job-prediction\n"
   ]
  },
  {
   "cell_type": "markdown",
   "metadata": {},
   "source": [
    "# Initial Setup"
   ]
  },
  {
   "cell_type": "code",
   "execution_count": 1,
   "metadata": {},
   "outputs": [
    {
     "name": "stdout",
     "output_type": "stream",
     "text": [
      "<class 'pandas.core.frame.DataFrame'>\n",
      "RangeIndex: 17880 entries, 0 to 17879\n",
      "Data columns (total 18 columns):\n",
      " #   Column               Non-Null Count  Dtype \n",
      "---  ------               --------------  ----- \n",
      " 0   job_id               17880 non-null  int64 \n",
      " 1   title                17880 non-null  object\n",
      " 2   location             17534 non-null  object\n",
      " 3   department           6333 non-null   object\n",
      " 4   salary_range         2868 non-null   object\n",
      " 5   company_profile      14572 non-null  object\n",
      " 6   description          17879 non-null  object\n",
      " 7   requirements         15185 non-null  object\n",
      " 8   benefits             10670 non-null  object\n",
      " 9   telecommuting        17880 non-null  int64 \n",
      " 10  has_company_logo     17880 non-null  int64 \n",
      " 11  has_questions        17880 non-null  int64 \n",
      " 12  employment_type      14409 non-null  object\n",
      " 13  required_experience  10830 non-null  object\n",
      " 14  required_education   9775 non-null   object\n",
      " 15  industry             12977 non-null  object\n",
      " 16  function             11425 non-null  object\n",
      " 17  fraudulent           17880 non-null  int64 \n",
      "dtypes: int64(5), object(13)\n",
      "memory usage: 2.5+ MB\n"
     ]
    }
   ],
   "source": [
    "from matplotlib import pyplot as plt\n",
    "import seaborn as sea\n",
    "import pandas as pd\n",
    "import numpy as np\n",
    "from sklearn.svm import LinearSVC\n",
    "from sklearn import preprocessing\n",
    "from sklearn.linear_model import LogisticRegression\n",
    "from sklearn.model_selection import train_test_split,cross_val_predict,cross_val_score\n",
    "from sklearn.naive_bayes import GaussianNB\n",
    "from sklearn.naive_bayes import BernoulliNB\n",
    "from sklearn.metrics import accuracy_score\n",
    "from sklearn.metrics import confusion_matrix\n",
    "from sklearn.metrics import precision_score, recall_score\n",
    "import warnings\n",
    "warnings.filterwarnings(\"ignore\")\n",
    "\n",
    "#Read in data\n",
    "df = pd.read_csv('fake_job_postings.csv')\n",
    "df.info()"
   ]
  },
  {
   "cell_type": "markdown",
   "metadata": {},
   "source": [
    "# Initial Exploration of Dataframe Contents"
   ]
  },
  {
   "cell_type": "markdown",
   "metadata": {},
   "source": [
    "In this section, we list the top elements in several columns to try and gauge what we should be using for experimentation. Included here are sections we decided not to use later on, but were necessary to gain a full understanding of the data we were working with. "
   ]
  },
  {
   "cell_type": "code",
   "execution_count": 2,
   "metadata": {},
   "outputs": [
    {
     "data": {
      "text/plain": [
       "University degree required. TEFL / TESOL / CELTA or teaching experience preferred but not necessaryCanada/US passport holders only                                                                                                                                                                                                                                                                                                                                                                                                                                                                                                                                                                                                            410\n",
       "University degree required. TEFL / TESOL / CELTA or teaching experience preferred but not necessaryPositive attitude required. Canada/US passport holders only                                                                                                                                                                                                                                                                                                                                                                                                                                                                                                                                                                                163\n",
       "16-18 year olds only due to government funding.Full time availability.                                                                                                                                                                                                                                                                                                                                                                                                                                                                                                                                                                                                                                                                        117\n",
       "Minimum Requirements:Minimum of 6 months customer service related experience requiredHigh school diploma or equivalent (GED) requiredPreferred Qualifications:Keyboarding and windows environment PC skills required (Word, Excel and PowerPoint preferred)Experience running mail posting equipment a plusExcellent communication skills both verbal and writtenLifting up to 55 lbs with or without accommodationsWillingness and availability to work additional hours if assignedWillingness to submit to a pre-employment drug screening and criminal background checkAbility to effectively work individually or in a team environmentCompetency in performing multiple functional tasksAbility to meet employer's attendance policy     80\n",
       "University degree required. TEFL / TESOL / CELTA, and/or teaching experience preferredCanada/US passport holders only                                                                                                                                                                                                                                                                                                                                                                                                                                                                                                                                                                                                                          42\n",
       "Name: requirements, dtype: int64"
      ]
     },
     "metadata": {},
     "output_type": "display_data"
    }
   ],
   "source": [
    "display(df['requirements'].value_counts().head())"
   ]
  },
  {
   "cell_type": "code",
   "execution_count": 3,
   "metadata": {},
   "outputs": [
    {
     "data": {
      "text/plain": [
       "Full-time    11620\n",
       "Contract      1524\n",
       "Part-time      797\n",
       "Temporary      241\n",
       "Other          227\n",
       "Name: employment_type, dtype: int64"
      ]
     },
     "metadata": {},
     "output_type": "display_data"
    }
   ],
   "source": [
    "display(df['employment_type'].value_counts().head())"
   ]
  },
  {
   "cell_type": "code",
   "execution_count": 4,
   "metadata": {},
   "outputs": [
    {
     "data": {
      "text/plain": [
       "Mid-Senior level    3809\n",
       "Entry level         2697\n",
       "Associate           2297\n",
       "Not Applicable      1116\n",
       "Director             389\n",
       "Name: required_experience, dtype: int64"
      ]
     },
     "metadata": {},
     "output_type": "display_data"
    }
   ],
   "source": [
    "display(df['required_experience'].value_counts().head())"
   ]
  },
  {
   "cell_type": "code",
   "execution_count": 5,
   "metadata": {},
   "outputs": [
    {
     "data": {
      "text/plain": [
       "Bachelor's Degree            5145\n",
       "High School or equivalent    2080\n",
       "Unspecified                  1397\n",
       "Master's Degree               416\n",
       "Associate Degree              274\n",
       "Name: required_education, dtype: int64"
      ]
     },
     "metadata": {},
     "output_type": "display_data"
    }
   ],
   "source": [
    "display(df['required_education'].value_counts().head())"
   ]
  },
  {
   "cell_type": "code",
   "execution_count": 6,
   "metadata": {},
   "outputs": [
    {
     "data": {
      "text/plain": [
       "Information Technology and Services    1734\n",
       "Computer Software                      1376\n",
       "Internet                               1062\n",
       "Marketing and Advertising               828\n",
       "Education Management                    822\n",
       "Financial Services                      779\n",
       "Hospital & Health Care                  497\n",
       "Consumer Services                       358\n",
       "Telecommunications                      342\n",
       "Oil & Energy                            287\n",
       "Name: industry, dtype: int64"
      ]
     },
     "metadata": {},
     "output_type": "display_data"
    }
   ],
   "source": [
    "display(df['industry'].value_counts().head(10))"
   ]
  },
  {
   "cell_type": "markdown",
   "metadata": {},
   "source": [
    "# Feature Selection\n",
    "For this process in our project, we opted to scale the dataframe down to only include elements which we deemed most important for predicting if a job post was fake. These features include: title, location, description, and has_company_logo."
   ]
  },
  {
   "cell_type": "code",
   "execution_count": 7,
   "metadata": {},
   "outputs": [],
   "source": [
    "df = df[['title', 'location', 'description', 'has_company_logo', 'fraudulent']]"
   ]
  },
  {
   "cell_type": "code",
   "execution_count": 8,
   "metadata": {},
   "outputs": [
    {
     "name": "stdout",
     "output_type": "stream",
     "text": [
      "<class 'pandas.core.frame.DataFrame'>\n",
      "RangeIndex: 17880 entries, 0 to 17879\n",
      "Data columns (total 5 columns):\n",
      " #   Column            Non-Null Count  Dtype \n",
      "---  ------            --------------  ----- \n",
      " 0   title             17880 non-null  object\n",
      " 1   location          17534 non-null  object\n",
      " 2   description       17879 non-null  object\n",
      " 3   has_company_logo  17880 non-null  int64 \n",
      " 4   fraudulent        17880 non-null  int64 \n",
      "dtypes: int64(2), object(3)\n",
      "memory usage: 698.6+ KB\n"
     ]
    }
   ],
   "source": [
    "df.info()"
   ]
  },
  {
   "cell_type": "markdown",
   "metadata": {},
   "source": [
    "# Visualization of Important Features"
   ]
  },
  {
   "cell_type": "markdown",
   "metadata": {},
   "source": [
    "This section highlights a deeper dive into the feature we have selected for experimentation. Here, we utilized the Seaborn python library for better plot construction. Seaborn uses Matplotlib and expands it for more detailed plot creation and mapping. For example, we applied a Seaborn count plot to evaluate the correlation between a company having a logo on a job posting and a post being fake. Seaborn provided a more effective approach to graph creation, as we were able to focus more on the actual contents of the plot rather than drawing it."
   ]
  },
  {
   "cell_type": "code",
   "execution_count": 9,
   "metadata": {},
   "outputs": [
    {
     "data": {
      "text/plain": [
       "<function matplotlib.pyplot.show(close=None, block=None)>"
      ]
     },
     "execution_count": 9,
     "metadata": {},
     "output_type": "execute_result"
    },
    {
     "data": {
      "image/png": "[encoded data removed]",
      "text/plain": [
       "<Figure size 432x288 with 1 Axes>"
      ]
     },
     "metadata": {
      "needs_background": "light"
     },
     "output_type": "display_data"
    }
   ],
   "source": [
    "counts =df['fraudulent'].value_counts()\n",
    "\n",
    "plt.bar(x=[0,.4], height = counts, width = .3)\n",
    "plt.xticks([0,.4], (\"Real\", \"Fraudulent\"))\n",
    "plt.ylabel('Frequencies')\n",
    "plt.title('Frequency of Fraudulent Job Postings')\n",
    "plt.show"
   ]
  },
  {
   "cell_type": "markdown",
   "metadata": {},
   "source": [
    "This bar graph provides a visual summary of the dataset we are using to train our model. As you can see, the dataset has thoundsands of more real job postings than fraudulent job postings. This may lead to skewed data in the future."
   ]
  },
  {
   "cell_type": "code",
   "execution_count": 10,
   "metadata": {},
   "outputs": [
    {
     "data": {
      "text/plain": [
       "Text(0.5, 1.0, 'Correlation Between Fraudulence and Having a Company Logo')"
      ]
     },
     "execution_count": 10,
     "metadata": {},
     "output_type": "execute_result"
    },
    {
     "data": {
      "image/png": "[encoded data removed]",
      "text/plain": [
       "<Figure size 720x720 with 1 Axes>"
      ]
     },
     "metadata": {
      "needs_background": "light"
     },
     "output_type": "display_data"
    }
   ],
   "source": [
    "plt.figure(figsize=(10,10))\n",
    "sea.countplot(x='has_company_logo', hue='fraudulent', data=df)\n",
    "plt.title('Correlation Between Fraudulence and Having a Company Logo')"
   ]
  },
  {
   "cell_type": "markdown",
   "metadata": {},
   "source": [
    "This plot demonstrates the correlation between a job posting having a company logo. As you can see, more job postings lacking a company logo are flagged as fraudulent than those containing a logo."
   ]
  },
  {
   "cell_type": "code",
   "execution_count": 11,
   "metadata": {},
   "outputs": [
    {
     "data": {
      "text/plain": [
       "English Teacher Abroad                                311\n",
       "Customer Service Associate                            146\n",
       "Graduates: English Teacher Abroad (Conversational)    144\n",
       "English Teacher Abroad                                 95\n",
       "Software Engineer                                      86\n",
       "English Teacher Abroad (Conversational)                83\n",
       "Customer Service Associate - Part Time                 76\n",
       "Account Manager                                        75\n",
       "Web Developer                                          66\n",
       "Project Manager                                        62\n",
       "Name: title, dtype: int64"
      ]
     },
     "metadata": {},
     "output_type": "display_data"
    }
   ],
   "source": [
    "#Showing Top Job Titles in Dataframe\n",
    "display(df['title'].value_counts().head(10))"
   ]
  },
  {
   "cell_type": "code",
   "execution_count": 12,
   "metadata": {},
   "outputs": [
    {
     "data": {
      "text/plain": [
       "GB, LND, London          718\n",
       "US, NY, New York         658\n",
       "US, CA, San Francisco    472\n",
       "GR, I, Athens            464\n",
       "US, ,                    339\n",
       "US, TX, Houston          269\n",
       "US, IL, Chicago          255\n",
       "US, DC, Washington       251\n",
       "DE, BE, Berlin           221\n",
       "NZ, N, Auckland          218\n",
       "Name: location, dtype: int64"
      ]
     },
     "metadata": {},
     "output_type": "display_data"
    }
   ],
   "source": [
    "#Showing Top Locations in Dataframe\n",
    "display(df['location'].value_counts().head(10))"
   ]
  },
  {
   "cell_type": "code",
   "execution_count": 13,
   "metadata": {},
   "outputs": [
    {
     "data": {
      "text/plain": [
       "Play with kids, get paid for it Love travel? Jobs in Asia$1,500+ USD monthly ($200 Cost of living)Housing provided (Private/Furnished)Airfare ReimbursedExcellent for student loans/credit cardsGabriel Adkins : #URL_ed9094c60184b8a4975333957f05be37e69d3cdb68decc9dd9a4242733cfd7f7##URL_75db76d58f7994c7db24e8998c2fc953ab9a20ea9ac948b217693963f78d2e6b#12 month contract : Apply today                    379\n",
       "Play with kids, get paid for it :-)Love travel? Jobs in Asia$1500 USD + monthly ($200 Cost of living)Housing providedAirfare ReimbursedExcellent for student loans/credit cardsGabriel Adkins : #URL_ed9094c60184b8a4975333957f05be37e69d3cdb68decc9dd9a4242733cfd7f7##URL_75db76d58f7994c7db24e8998c2fc953ab9a20ea9ac948b217693963f78d2e6b#                                                                     66\n",
       "Play with kids, get paid for it Love travel? Jobs in Asia$1500 USD + monthly ($200 Cost of living)Excellent for student loans/credit cardsHousing provided (Furnished/Private)Airfare ReimbursedRemind us when you wanted to start when applying :-)                                                                                                                                                             46\n",
       "The International Broadcaster shall properly complete all daily tasks. These daily tasks include but are not limited to: preparing for assignments (fails not more than once per week); revising video packages (fails not more than twice per week); correcting production errors in stories (fails not more than twice per week); properly creating line-ups and logs (fails not more than once per week).     33\n",
       "Play with kids, get paid for it :-)Love travel? Jobs in Asia$1500 USD + monthly ($200 Cost of living)Housing providedAirfare ReimbursedExcellent for student loans/credit cardsGabriel Adkins (#URL_ed9094c60184b8a4975333957f05be37e69d3cdb68decc9dd9a4242733cfd7f7#)#URL_75db76d58f7994c7db24e8998c2fc953ab9a20ea9ac948b217693963f78d2e6b#                                                                     32\n",
       "Name: description, dtype: int64"
      ]
     },
     "metadata": {},
     "output_type": "display_data"
    }
   ],
   "source": [
    "#Showing Top Descriptions in Dataframe\n",
    "display(df['description'].value_counts().head())"
   ]
  },
  {
   "cell_type": "markdown",
   "metadata": {},
   "source": [
    "We found this count verying interesting. The fact that there are repeated instances of the same job description word for word could be a potential idicator of fraud. This will be further explored through experimenting by using description to predict fraudulant job posts."
   ]
  },
  {
   "cell_type": "code",
   "execution_count": 14,
   "metadata": {},
   "outputs": [
    {
     "name": "stdout",
     "output_type": "stream",
     "text": [
      "(17880, 5)\n"
     ]
    }
   ],
   "source": [
    "print(df.shape)"
   ]
  },
  {
   "cell_type": "markdown",
   "metadata": {},
   "source": [
    "#  Creation of Training Set"
   ]
  },
  {
   "cell_type": "code",
   "execution_count": 15,
   "metadata": {},
   "outputs": [
    {
     "data": {
      "text/html": [
       "<div>\n",
       "<style scoped>\n",
       "    .dataframe tbody tr th:only-of-type {\n",
       "        vertical-align: middle;\n",
       "    }\n",
       "\n",
       "    .dataframe tbody tr th {\n",
       "        vertical-align: top;\n",
       "    }\n",
       "\n",
       "    .dataframe thead th {\n",
       "        text-align: right;\n",
       "    }\n",
       "</style>\n",
       "<table border=\"1\" class=\"dataframe\">\n",
       "  <thead>\n",
       "    <tr style=\"text-align: right;\">\n",
       "      <th></th>\n",
       "      <th>fraudulent</th>\n",
       "      <th>title</th>\n",
       "    </tr>\n",
       "  </thead>\n",
       "  <tbody>\n",
       "    <tr>\n",
       "      <th>0</th>\n",
       "      <td>0</td>\n",
       "      <td>Marketing Intern</td>\n",
       "    </tr>\n",
       "    <tr>\n",
       "      <th>1</th>\n",
       "      <td>0</td>\n",
       "      <td>Customer Service - Cloud Video Production</td>\n",
       "    </tr>\n",
       "    <tr>\n",
       "      <th>2</th>\n",
       "      <td>0</td>\n",
       "      <td>Commissioning Machinery Assistant (CMA)</td>\n",
       "    </tr>\n",
       "    <tr>\n",
       "      <th>3</th>\n",
       "      <td>0</td>\n",
       "      <td>Account Executive - Washington DC</td>\n",
       "    </tr>\n",
       "    <tr>\n",
       "      <th>4</th>\n",
       "      <td>0</td>\n",
       "      <td>Bill Review Manager</td>\n",
       "    </tr>\n",
       "  </tbody>\n",
       "</table>\n",
       "</div>"
      ],
      "text/plain": [
       "   fraudulent                                      title\n",
       "0           0                           Marketing Intern\n",
       "1           0  Customer Service - Cloud Video Production\n",
       "2           0    Commissioning Machinery Assistant (CMA)\n",
       "3           0          Account Executive - Washington DC\n",
       "4           0                        Bill Review Manager"
      ]
     },
     "execution_count": 15,
     "metadata": {},
     "output_type": "execute_result"
    }
   ],
   "source": [
    "df = df[['fraudulent', 'title']]\n",
    "df.head()"
   ]
  },
  {
   "cell_type": "code",
   "execution_count": 16,
   "metadata": {},
   "outputs": [],
   "source": [
    "dfTest = df.sample(frac=0.2, random_state=1)\n",
    "dfTrain = df.drop(dfTest.index)"
   ]
  },
  {
   "cell_type": "code",
   "execution_count": 17,
   "metadata": {},
   "outputs": [
    {
     "name": "stdout",
     "output_type": "stream",
     "text": [
      "(3576, 2)\n",
      "(14304, 2)\n"
     ]
    }
   ],
   "source": [
    "print(dfTest.shape)\n",
    "print(dfTrain.shape)"
   ]
  },
  {
   "cell_type": "markdown",
   "metadata": {},
   "source": [
    "# Checking for Null\n",
    "Null values within the data set must be found to avoid unintended data manipulation."
   ]
  },
  {
   "cell_type": "code",
   "execution_count": 18,
   "metadata": {},
   "outputs": [
    {
     "data": {
      "text/plain": [
       "False"
      ]
     },
     "execution_count": 18,
     "metadata": {},
     "output_type": "execute_result"
    }
   ],
   "source": [
    "dfTrain.isnull().values.any()"
   ]
  },
  {
   "cell_type": "code",
   "execution_count": 19,
   "metadata": {},
   "outputs": [
    {
     "name": "stdout",
     "output_type": "stream",
     "text": [
      "<class 'pandas.core.frame.DataFrame'>\n",
      "Int64Index: 14304 entries, 1 to 17879\n",
      "Data columns (total 2 columns):\n",
      " #   Column      Non-Null Count  Dtype \n",
      "---  ------      --------------  ----- \n",
      " 0   fraudulent  14304 non-null  int64 \n",
      " 1   title       14304 non-null  object\n",
      "dtypes: int64(1), object(1)\n",
      "memory usage: 335.2+ KB\n"
     ]
    }
   ],
   "source": [
    "dfTrain.info()"
   ]
  },
  {
   "cell_type": "markdown",
   "metadata": {},
   "source": [
    "# Cleaning Data"
   ]
  },
  {
   "cell_type": "code",
   "execution_count": 20,
   "metadata": {},
   "outputs": [
    {
     "data": {
      "text/html": [
       "<div>\n",
       "<style scoped>\n",
       "    .dataframe tbody tr th:only-of-type {\n",
       "        vertical-align: middle;\n",
       "    }\n",
       "\n",
       "    .dataframe tbody tr th {\n",
       "        vertical-align: top;\n",
       "    }\n",
       "\n",
       "    .dataframe thead th {\n",
       "        text-align: right;\n",
       "    }\n",
       "</style>\n",
       "<table border=\"1\" class=\"dataframe\">\n",
       "  <thead>\n",
       "    <tr style=\"text-align: right;\">\n",
       "      <th></th>\n",
       "      <th>fraudulent</th>\n",
       "      <th>title</th>\n",
       "    </tr>\n",
       "  </thead>\n",
       "  <tbody>\n",
       "    <tr>\n",
       "      <th>1</th>\n",
       "      <td>0</td>\n",
       "      <td>[customer, service, cloud, video, production]</td>\n",
       "    </tr>\n",
       "    <tr>\n",
       "      <th>2</th>\n",
       "      <td>0</td>\n",
       "      <td>[commissioning, machinery, assistant, cma]</td>\n",
       "    </tr>\n",
       "    <tr>\n",
       "      <th>3</th>\n",
       "      <td>0</td>\n",
       "      <td>[account, executive, washington, dc]</td>\n",
       "    </tr>\n",
       "    <tr>\n",
       "      <th>7</th>\n",
       "      <td>0</td>\n",
       "      <td>[lead, guest, service, specialist]</td>\n",
       "    </tr>\n",
       "    <tr>\n",
       "      <th>8</th>\n",
       "      <td>0</td>\n",
       "      <td>[hp, bsm, sme]</td>\n",
       "    </tr>\n",
       "  </tbody>\n",
       "</table>\n",
       "</div>"
      ],
      "text/plain": [
       "   fraudulent                                          title\n",
       "1           0  [customer, service, cloud, video, production]\n",
       "2           0     [commissioning, machinery, assistant, cma]\n",
       "3           0           [account, executive, washington, dc]\n",
       "7           0             [lead, guest, service, specialist]\n",
       "8           0                                 [hp, bsm, sme]"
      ]
     },
     "execution_count": 20,
     "metadata": {},
     "output_type": "execute_result"
    }
   ],
   "source": [
    "dfTrainClean = dfTrain.copy()\n",
    "dfTrainClean['title'] = dfTrainClean['title'].str.replace('\\W+', ' ').str.replace('\\s+', ' ').str.strip()\n",
    "dfTrainClean['title'] = dfTrainClean['title'].str.lower()\n",
    "dfTrainClean['title'] = dfTrainClean['title'].str.split()\n",
    "\n",
    "\n",
    "dfTrainClean.head()"
   ]
  },
  {
   "cell_type": "markdown",
   "metadata": {},
   "source": [
    "# Creating a list of words that appear description"
   ]
  },
  {
   "cell_type": "code",
   "execution_count": 21,
   "metadata": {},
   "outputs": [],
   "source": [
    "npWords = dfTrainClean.iloc[:,1].values\n",
    "vocab = list(set(npWords.sum()))\n"
   ]
  },
  {
   "cell_type": "code",
   "execution_count": 22,
   "metadata": {},
   "outputs": [
    {
     "data": {
      "text/html": [
       "<div>\n",
       "<style scoped>\n",
       "    .dataframe tbody tr th:only-of-type {\n",
       "        vertical-align: middle;\n",
       "    }\n",
       "\n",
       "    .dataframe tbody tr th {\n",
       "        vertical-align: top;\n",
       "    }\n",
       "\n",
       "    .dataframe thead th {\n",
       "        text-align: right;\n",
       "    }\n",
       "</style>\n",
       "<table border=\"1\" class=\"dataframe\">\n",
       "  <thead>\n",
       "    <tr style=\"text-align: right;\">\n",
       "      <th></th>\n",
       "      <th>postgress</th>\n",
       "      <th>cpa</th>\n",
       "      <th>portals</th>\n",
       "      <th>limited</th>\n",
       "      <th>herculaneum</th>\n",
       "      <th>southend</th>\n",
       "      <th>creator</th>\n",
       "      <th>manage</th>\n",
       "      <th>costa</th>\n",
       "      <th>analytic</th>\n",
       "      <th>...</th>\n",
       "      <th>junction</th>\n",
       "      <th>citrix</th>\n",
       "      <th>integrated</th>\n",
       "      <th>abroad</th>\n",
       "      <th>6wf</th>\n",
       "      <th>seabourne</th>\n",
       "      <th>automated</th>\n",
       "      <th>fundraiser</th>\n",
       "      <th>hempstead</th>\n",
       "      <th>dialysis</th>\n",
       "    </tr>\n",
       "  </thead>\n",
       "  <tbody>\n",
       "    <tr>\n",
       "      <th>0</th>\n",
       "      <td>0</td>\n",
       "      <td>0</td>\n",
       "      <td>0</td>\n",
       "      <td>0</td>\n",
       "      <td>0</td>\n",
       "      <td>0</td>\n",
       "      <td>0</td>\n",
       "      <td>0</td>\n",
       "      <td>0</td>\n",
       "      <td>0</td>\n",
       "      <td>...</td>\n",
       "      <td>0</td>\n",
       "      <td>0</td>\n",
       "      <td>0</td>\n",
       "      <td>0</td>\n",
       "      <td>0</td>\n",
       "      <td>0</td>\n",
       "      <td>0</td>\n",
       "      <td>0</td>\n",
       "      <td>0</td>\n",
       "      <td>0</td>\n",
       "    </tr>\n",
       "    <tr>\n",
       "      <th>1</th>\n",
       "      <td>0</td>\n",
       "      <td>0</td>\n",
       "      <td>0</td>\n",
       "      <td>0</td>\n",
       "      <td>0</td>\n",
       "      <td>0</td>\n",
       "      <td>0</td>\n",
       "      <td>0</td>\n",
       "      <td>0</td>\n",
       "      <td>0</td>\n",
       "      <td>...</td>\n",
       "      <td>0</td>\n",
       "      <td>0</td>\n",
       "      <td>0</td>\n",
       "      <td>0</td>\n",
       "      <td>0</td>\n",
       "      <td>0</td>\n",
       "      <td>0</td>\n",
       "      <td>0</td>\n",
       "      <td>0</td>\n",
       "      <td>0</td>\n",
       "    </tr>\n",
       "    <tr>\n",
       "      <th>2</th>\n",
       "      <td>0</td>\n",
       "      <td>0</td>\n",
       "      <td>0</td>\n",
       "      <td>0</td>\n",
       "      <td>0</td>\n",
       "      <td>0</td>\n",
       "      <td>0</td>\n",
       "      <td>0</td>\n",
       "      <td>0</td>\n",
       "      <td>0</td>\n",
       "      <td>...</td>\n",
       "      <td>0</td>\n",
       "      <td>0</td>\n",
       "      <td>0</td>\n",
       "      <td>0</td>\n",
       "      <td>0</td>\n",
       "      <td>0</td>\n",
       "      <td>0</td>\n",
       "      <td>0</td>\n",
       "      <td>0</td>\n",
       "      <td>0</td>\n",
       "    </tr>\n",
       "    <tr>\n",
       "      <th>3</th>\n",
       "      <td>0</td>\n",
       "      <td>0</td>\n",
       "      <td>0</td>\n",
       "      <td>0</td>\n",
       "      <td>0</td>\n",
       "      <td>0</td>\n",
       "      <td>0</td>\n",
       "      <td>0</td>\n",
       "      <td>0</td>\n",
       "      <td>0</td>\n",
       "      <td>...</td>\n",
       "      <td>0</td>\n",
       "      <td>0</td>\n",
       "      <td>0</td>\n",
       "      <td>0</td>\n",
       "      <td>0</td>\n",
       "      <td>0</td>\n",
       "      <td>0</td>\n",
       "      <td>0</td>\n",
       "      <td>0</td>\n",
       "      <td>0</td>\n",
       "    </tr>\n",
       "    <tr>\n",
       "      <th>4</th>\n",
       "      <td>0</td>\n",
       "      <td>0</td>\n",
       "      <td>0</td>\n",
       "      <td>0</td>\n",
       "      <td>0</td>\n",
       "      <td>0</td>\n",
       "      <td>0</td>\n",
       "      <td>0</td>\n",
       "      <td>0</td>\n",
       "      <td>0</td>\n",
       "      <td>...</td>\n",
       "      <td>0</td>\n",
       "      <td>0</td>\n",
       "      <td>0</td>\n",
       "      <td>0</td>\n",
       "      <td>0</td>\n",
       "      <td>0</td>\n",
       "      <td>0</td>\n",
       "      <td>0</td>\n",
       "      <td>0</td>\n",
       "      <td>0</td>\n",
       "    </tr>\n",
       "  </tbody>\n",
       "</table>\n",
       "<p>5 rows × 4232 columns</p>\n",
       "</div>"
      ],
      "text/plain": [
       "   postgress  cpa  portals  limited  herculaneum  southend  creator  manage  \\\n",
       "0          0    0        0        0            0         0        0       0   \n",
       "1          0    0        0        0            0         0        0       0   \n",
       "2          0    0        0        0            0         0        0       0   \n",
       "3          0    0        0        0            0         0        0       0   \n",
       "4          0    0        0        0            0         0        0       0   \n",
       "\n",
       "   costa  analytic  ...  junction  citrix  integrated  abroad  6wf  seabourne  \\\n",
       "0      0         0  ...         0       0           0       0    0          0   \n",
       "1      0         0  ...         0       0           0       0    0          0   \n",
       "2      0         0  ...         0       0           0       0    0          0   \n",
       "3      0         0  ...         0       0           0       0    0          0   \n",
       "4      0         0  ...         0       0           0       0    0          0   \n",
       "\n",
       "   automated  fundraiser  hempstead  dialysis  \n",
       "0          0           0          0         0  \n",
       "1          0           0          0         0  \n",
       "2          0           0          0         0  \n",
       "3          0           0          0         0  \n",
       "4          0           0          0         0  \n",
       "\n",
       "[5 rows x 4232 columns]"
      ]
     },
     "execution_count": 22,
     "metadata": {},
     "output_type": "execute_result"
    }
   ],
   "source": [
    "df_vocab = pd.DataFrame([\n",
    "    [row.count(word) for word in vocab]\n",
    "    for row in dfTrainClean.iloc[:,1].values], columns=vocab)\n",
    "df_vocab_train = df_vocab.copy()\n",
    "\n",
    "df_vocab['fraudulent'] = dfTrainClean.loc[:,'fraudulent']\n",
    "df_vocab_train.head()"
   ]
  },
  {
   "cell_type": "code",
   "execution_count": 23,
   "metadata": {},
   "outputs": [
    {
     "data": {
      "text/plain": [
       "Counter({0: 13591, 1: 713})"
      ]
     },
     "execution_count": 23,
     "metadata": {},
     "output_type": "execute_result"
    }
   ],
   "source": [
    "from collections import Counter\n",
    "Counter(dfTrainClean['fraudulent'])"
   ]
  },
  {
   "cell_type": "markdown",
   "metadata": {},
   "source": [
    "This counter describes how many positive, or fraudulant, cases there are. As you can see, the dataset is very imbalanced. A possible method to fixing this is through using random oversampling. This is when you add to the number of positive cases in order to make the dataset and therefore the training models umbiased. However, we were not able to get this working, as the imblearn class had issues. This is not the worst case scenario, though, as there are drawbacks with random oversampling. For instance, by adding artificial positive cases, even by using the k-nearest neighbor, the dataset becomes instantly false. No longer would we be observing real results, rather a hypothetical dataset. We were able to mitigate the dataset imbalance with built in algorithmic parameters,such as making the class_weight balanced."
   ]
  },
  {
   "cell_type": "markdown",
   "metadata": {},
   "source": [
    "# Training Data with Logistic Regression\n",
    "Logistic regression is an algorithm used for classification problems. It is predicitive and is based off of probability."
   ]
  },
  {
   "cell_type": "code",
   "execution_count": 24,
   "metadata": {},
   "outputs": [
    {
     "name": "stdout",
     "output_type": "stream",
     "text": [
      "Accuracy training logistic regression: 0.8935950557656256\n",
      "Precision:  0.2733893557422969\n",
      "Recall:  0.6844319775596073\n"
     ]
    },
    {
     "data": {
      "text/plain": [
       "array([[12294,  1297],\n",
       "       [  225,   488]], dtype=int64)"
      ]
     },
     "execution_count": 24,
     "metadata": {},
     "output_type": "execute_result"
    }
   ],
   "source": [
    "logreg = LogisticRegression(class_weight='balanced')\n",
    "logreg.fit(df_vocab_train, dfTrainClean['fraudulent'])\n",
    "pred = cross_val_predict(logreg,df_vocab_train, dfTrainClean['fraudulent'], cv=5)\n",
    "score = cross_val_score(logreg,df_vocab_train, dfTrainClean['fraudulent'], cv=5)\n",
    "avgLogReg = np.mean(score)\n",
    "\n",
    "precLogReg = precision_score(dfTrainClean['fraudulent'], pred)\n",
    "recallLogReg = recall_score(dfTrainClean['fraudulent'], pred)\n",
    "print(\"Accuracy training logistic regression:\", avgLogReg)\n",
    "print(\"Precision: \", precLogReg)\n",
    "print(\"Recall: \", recallLogReg)\n",
    "confusion_matrix(dfTrainClean['fraudulent'], pred)"
   ]
  },
  {
   "cell_type": "markdown",
   "metadata": {},
   "source": [
    "# Training Data with a GaussianNB model\n",
    "Gaussian Naive Bayes is a varient of the naive bayes model. This model follows Gaussian normal distribution, which is a bell-shaped curve and assumes data will follow a normal distribution with an equal number of measurements above and below the mean."
   ]
  },
  {
   "cell_type": "code",
   "execution_count": 25,
   "metadata": {},
   "outputs": [
    {
     "name": "stdout",
     "output_type": "stream",
     "text": [
      "Accuracy training gaussian nb:  0.647650388758393\n",
      "Precision score:  0.10016632785067456\n",
      "Recall score:  0.7601683029453016\n"
     ]
    },
    {
     "data": {
      "text/plain": [
       "array([[8722, 4869],\n",
       "       [ 171,  542]], dtype=int64)"
      ]
     },
     "execution_count": 25,
     "metadata": {},
     "output_type": "execute_result"
    }
   ],
   "source": [
    "gauss = GaussianNB()\n",
    "gauss.fit(df_vocab_train, dfTrainClean['fraudulent'])\n",
    "cv_pred = cross_val_predict(gauss, df_vocab_train, dfTrainClean['fraudulent'], cv=5)\n",
    "#Upon testing with different hyperparameters, it is clear that having 5 folds in cross-validation yields optimal results\n",
    "cv_score = cross_val_score(gauss, df_vocab_train, dfTrainClean['fraudulent'], cv=5)\n",
    "avgGauss = np.mean(cv_score)\n",
    "\n",
    "gauss_precision_score = precision_score(dfTrainClean['fraudulent'], cv_pred)\n",
    "gauss_recall_score = recall_score(dfTrainClean['fraudulent'], cv_pred)\n",
    "print(\"Accuracy training gaussian nb: \", avgGauss)\n",
    "print(\"Precision score: \", gauss_precision_score)\n",
    "print(\"Recall score: \", gauss_recall_score)\n",
    "confusion_matrix(dfTrainClean['fraudulent'], cv_pred)"
   ]
  },
  {
   "cell_type": "markdown",
   "metadata": {},
   "source": [
    "# Training Data with a BernoulliNB model"
   ]
  },
  {
   "cell_type": "markdown",
   "metadata": {},
   "source": [
    "Bernoulli naive bayes is a varient of the naive bayes model which shows the presence/absence of a feature."
   ]
  },
  {
   "cell_type": "code",
   "execution_count": 26,
   "metadata": {},
   "outputs": [
    {
     "name": "stdout",
     "output_type": "stream",
     "text": [
      "Accuracy training bernoulli nb:  0.9443508431449711\n",
      "Precision score:  0.3875338753387534\n",
      "Recall score:  0.2005610098176718\n"
     ]
    },
    {
     "data": {
      "text/plain": [
       "array([[13365,   226],\n",
       "       [  570,   143]], dtype=int64)"
      ]
     },
     "execution_count": 26,
     "metadata": {},
     "output_type": "execute_result"
    }
   ],
   "source": [
    "bern = BernoulliNB()\n",
    "bern.fit(df_vocab_train, dfTrainClean['fraudulent'])\n",
    "cv_pred = cross_val_predict(bern, df_vocab_train, dfTrainClean['fraudulent'], cv=5)\n",
    "cv_score = cross_val_score(bern, df_vocab_train, dfTrainClean['fraudulent'], cv=5)\n",
    "avgBern = np.mean(cv_score)\n",
    "\n",
    "bern_precision_score = precision_score(dfTrainClean['fraudulent'], cv_pred)\n",
    "bern_recall_score = recall_score(dfTrainClean['fraudulent'], cv_pred)\n",
    "print(\"Accuracy training bernoulli nb: \", avgBern)\n",
    "print(\"Precision score: \", bern_precision_score)\n",
    "print(\"Recall score: \", bern_recall_score)\n",
    "confusion_matrix(dfTrainClean['fraudulent'], cv_pred)"
   ]
  },
  {
   "cell_type": "markdown",
   "metadata": {},
   "source": [
    "# Training Data with a SVM"
   ]
  },
  {
   "cell_type": "markdown",
   "metadata": {},
   "source": [
    "Support vector machines are useful for classification problems due to their use of hyperplanes to separate data points, and their ability to disregard many outliers. "
   ]
  },
  {
   "cell_type": "code",
   "execution_count": 27,
   "metadata": {},
   "outputs": [
    {
     "name": "stdout",
     "output_type": "stream",
     "text": [
      "SVM Accuracy score:  0.9367309843400448\n",
      "Precision:  0.43806451612903224\n",
      "Recall:  0.9523141654978962\n"
     ]
    },
    {
     "data": {
      "text/plain": [
       "array([[12720,   871],\n",
       "       [   34,   679]], dtype=int64)"
      ]
     },
     "execution_count": 27,
     "metadata": {},
     "output_type": "execute_result"
    }
   ],
   "source": [
    "svm = LinearSVC(C=4, class_weight='balanced')\n",
    "svm.fit(df_vocab_train, dfTrainClean['fraudulent'])\n",
    "pred = svm.predict(df_vocab_train)\n",
    "\n",
    "avgSvm = svm.score(df_vocab_train, dfTrainClean['fraudulent'])\n",
    "precSvm = precision_score(dfTrainClean['fraudulent'], pred)\n",
    "recallSvm = recall_score(dfTrainClean['fraudulent'], pred)\n",
    "\n",
    "\n",
    "print(\"SVM Accuracy score: \", avgSvm)\n",
    "print(\"Precision: \", precSvm)\n",
    "print(\"Recall: \", recallSvm)\n",
    "confusion_matrix(dfTrainClean['fraudulent'], pred)\n",
    "\n"
   ]
  },
  {
   "cell_type": "markdown",
   "metadata": {},
   "source": [
    "# Discussion of Training Data\n",
    "For all of our training models, we used cross-validation with 5 folds. Additionally each method was measured by accuracy, precision score, recall score, and included a confusion matrix."
   ]
  },
  {
   "cell_type": "code",
   "execution_count": 28,
   "metadata": {},
   "outputs": [],
   "source": [
    "#Creation of table to view results from training\n",
    "data = [[\"Logistic Regression\", avgLogReg, precLogReg, recallLogReg],\n",
    "        [\"GaussianNB\", avgGauss, gauss_precision_score, gauss_recall_score],\n",
    "        [\"BernoulliNB\", avgBern, bern_precision_score, bern_recall_score],\n",
    "        [\"SVM\", avgSvm, precSvm, recallSvm]]\n",
    "df_models = pd.DataFrame(data, columns = [\"Model\", \"Accuracy\", \"Precision\", \"Recall\"])"
   ]
  },
  {
   "cell_type": "code",
   "execution_count": 29,
   "metadata": {},
   "outputs": [
    {
     "data": {
      "text/html": [
       "<div>\n",
       "<style scoped>\n",
       "    .dataframe tbody tr th:only-of-type {\n",
       "        vertical-align: middle;\n",
       "    }\n",
       "\n",
       "    .dataframe tbody tr th {\n",
       "        vertical-align: top;\n",
       "    }\n",
       "\n",
       "    .dataframe thead th {\n",
       "        text-align: right;\n",
       "    }\n",
       "</style>\n",
       "<table border=\"1\" class=\"dataframe\">\n",
       "  <thead>\n",
       "    <tr style=\"text-align: right;\">\n",
       "      <th></th>\n",
       "      <th>Model</th>\n",
       "      <th>Accuracy</th>\n",
       "      <th>Precision</th>\n",
       "      <th>Recall</th>\n",
       "    </tr>\n",
       "  </thead>\n",
       "  <tbody>\n",
       "    <tr>\n",
       "      <th>0</th>\n",
       "      <td>Logistic Regression</td>\n",
       "      <td>0.893595</td>\n",
       "      <td>0.273389</td>\n",
       "      <td>0.684432</td>\n",
       "    </tr>\n",
       "    <tr>\n",
       "      <th>1</th>\n",
       "      <td>GaussianNB</td>\n",
       "      <td>0.647650</td>\n",
       "      <td>0.100166</td>\n",
       "      <td>0.760168</td>\n",
       "    </tr>\n",
       "    <tr>\n",
       "      <th>2</th>\n",
       "      <td>BernoulliNB</td>\n",
       "      <td>0.944351</td>\n",
       "      <td>0.387534</td>\n",
       "      <td>0.200561</td>\n",
       "    </tr>\n",
       "    <tr>\n",
       "      <th>3</th>\n",
       "      <td>SVM</td>\n",
       "      <td>0.936731</td>\n",
       "      <td>0.438065</td>\n",
       "      <td>0.952314</td>\n",
       "    </tr>\n",
       "  </tbody>\n",
       "</table>\n",
       "</div>"
      ],
      "text/plain": [
       "                 Model  Accuracy  Precision    Recall\n",
       "0  Logistic Regression  0.893595   0.273389  0.684432\n",
       "1           GaussianNB  0.647650   0.100166  0.760168\n",
       "2          BernoulliNB  0.944351   0.387534  0.200561\n",
       "3                  SVM  0.936731   0.438065  0.952314"
      ]
     },
     "metadata": {},
     "output_type": "display_data"
    }
   ],
   "source": [
    "display(df_models)"
   ]
  },
  {
   "cell_type": "code",
   "execution_count": 30,
   "metadata": {
    "scrolled": true
   },
   "outputs": [
    {
     "data": {
      "text/plain": [
       "<function matplotlib.pyplot.show(close=None, block=None)>"
      ]
     },
     "execution_count": 30,
     "metadata": {},
     "output_type": "execute_result"
    },
    {
     "data": {
      "image/png": "[encoded data removed]",
      "text/plain": [
       "<Figure size 1080x432 with 1 Axes>"
      ]
     },
     "metadata": {
      "needs_background": "light"
     },
     "output_type": "display_data"
    }
   ],
   "source": [
    "ax = plt.gca()\n",
    "df_models.plot(title = \"Accuracy of Models\", kind = 'line', x = 'Model', y = \"Accuracy\",\n",
    "              yticks = (0,.1,.2,.3,.4,.5,.6,.7,.8,.9,1), figsize=(15,6), ax=ax)\n",
    "df_models.plot(kind='line', x='Model', y = 'Precision', ax=ax)\n",
    "df_models.plot(kind='line', x='Model', y='Recall', ax=ax)\n",
    "plt.ylabel('Accuracy')\n",
    "plt.legend()\n",
    "plt.show"
   ]
  },
  {
   "cell_type": "code",
   "execution_count": 31,
   "metadata": {},
   "outputs": [
    {
     "data": {
      "image/png": "[encoded data removed]",
      "text/plain": [
       "<Figure size 720x360 with 1 Axes>"
      ]
     },
     "metadata": {
      "needs_background": "light"
     },
     "output_type": "display_data"
    }
   ],
   "source": [
    "barData = [['Classification Rate', avgLogReg, avgGauss, avgBern, avgSvm],\n",
    "           ['Precision', precLogReg, gauss_precision_score,bern_precision_score, precSvm],\n",
    "           ['Recall',recallLogReg,gauss_recall_score, bern_recall_score, recallSvm]]\n",
    "barDataDf = pd.DataFrame(barData)\n",
    "barDataDf.columns = ['Accuracy Method', 'Log Reg', 'Gaussian', 'Bernoulli', 'SVM']\n",
    "ax = barDataDf.plot.bar(x= 'Accuracy Method',rot = 0, title=\"Performance of Different Classification Methods\", figsize = (10,5))\n",
    "ax.legend(loc='center left', bbox_to_anchor=(1.0, 0.5))\n",
    "ax.set_ylabel(\"Score\")\n",
    "ax.set_xlabel(\"\")\n",
    "plt.show()"
   ]
  },
  {
   "cell_type": "markdown",
   "metadata": {},
   "source": [
    "Overall, SVM seemed to be the highest performing method. It exceeded expecations in Classification Rate, and had the best recall by a significant margin. In this case, a higher recall is more desireable as we do not want legitimate job offerings to be marked as fraudulent. Log Reg performed in a similar fashion, but had lower precision and recall.\n",
    "GaussianNB and BernoulliNB had identical precision and recall values, as both are based upon probability metrics. However, the BernoulliNB method appears more accurate due to its higher classification rate.\n",
    "Finally, we elected to not use KNN as the data set we are dealing with is too large and this method would have been inefficient."
   ]
  },
  {
   "cell_type": "markdown",
   "metadata": {},
   "source": [
    "# Testing our Methods"
   ]
  },
  {
   "cell_type": "code",
   "execution_count": 32,
   "metadata": {},
   "outputs": [
    {
     "data": {
      "text/html": [
       "<div>\n",
       "<style scoped>\n",
       "    .dataframe tbody tr th:only-of-type {\n",
       "        vertical-align: middle;\n",
       "    }\n",
       "\n",
       "    .dataframe tbody tr th {\n",
       "        vertical-align: top;\n",
       "    }\n",
       "\n",
       "    .dataframe thead th {\n",
       "        text-align: right;\n",
       "    }\n",
       "</style>\n",
       "<table border=\"1\" class=\"dataframe\">\n",
       "  <thead>\n",
       "    <tr style=\"text-align: right;\">\n",
       "      <th></th>\n",
       "      <th>fraudulent</th>\n",
       "      <th>title</th>\n",
       "    </tr>\n",
       "  </thead>\n",
       "  <tbody>\n",
       "    <tr>\n",
       "      <th>5736</th>\n",
       "      <td>0</td>\n",
       "      <td>[jr, business, analyst, quality, analyst, entr...</td>\n",
       "    </tr>\n",
       "    <tr>\n",
       "      <th>7106</th>\n",
       "      <td>0</td>\n",
       "      <td>[english, teacher, abroad]</td>\n",
       "    </tr>\n",
       "    <tr>\n",
       "      <th>11978</th>\n",
       "      <td>0</td>\n",
       "      <td>[sql, server, database, developer, job, opport...</td>\n",
       "    </tr>\n",
       "    <tr>\n",
       "      <th>9374</th>\n",
       "      <td>0</td>\n",
       "      <td>[legal, analyst, 12, month, ftc]</td>\n",
       "    </tr>\n",
       "    <tr>\n",
       "      <th>1300</th>\n",
       "      <td>0</td>\n",
       "      <td>[part, time, finance, assistant]</td>\n",
       "    </tr>\n",
       "  </tbody>\n",
       "</table>\n",
       "</div>"
      ],
      "text/plain": [
       "       fraudulent                                              title\n",
       "5736            0  [jr, business, analyst, quality, analyst, entr...\n",
       "7106            0                         [english, teacher, abroad]\n",
       "11978           0  [sql, server, database, developer, job, opport...\n",
       "9374            0                   [legal, analyst, 12, month, ftc]\n",
       "1300            0                   [part, time, finance, assistant]"
      ]
     },
     "execution_count": 32,
     "metadata": {},
     "output_type": "execute_result"
    }
   ],
   "source": [
    "df_test_clean = dfTest.copy()\n",
    "\n",
    "df_test_clean['title'] = df_test_clean['title'].str.replace('\\W+', ' ').str.replace('\\s+', ' ').str.strip()\n",
    "df_test_clean['title'] = df_test_clean['title'].str.lower()\n",
    "df_test_clean['title'] = df_test_clean['title'].str.split()\n",
    "\n",
    "df_test_clean.head()"
   ]
  },
  {
   "cell_type": "code",
   "execution_count": 33,
   "metadata": {},
   "outputs": [
    {
     "data": {
      "text/html": [
       "<div>\n",
       "<style scoped>\n",
       "    .dataframe tbody tr th:only-of-type {\n",
       "        vertical-align: middle;\n",
       "    }\n",
       "\n",
       "    .dataframe tbody tr th {\n",
       "        vertical-align: top;\n",
       "    }\n",
       "\n",
       "    .dataframe thead th {\n",
       "        text-align: right;\n",
       "    }\n",
       "</style>\n",
       "<table border=\"1\" class=\"dataframe\">\n",
       "  <thead>\n",
       "    <tr style=\"text-align: right;\">\n",
       "      <th></th>\n",
       "      <th>postgress</th>\n",
       "      <th>cpa</th>\n",
       "      <th>portals</th>\n",
       "      <th>limited</th>\n",
       "      <th>herculaneum</th>\n",
       "      <th>southend</th>\n",
       "      <th>creator</th>\n",
       "      <th>manage</th>\n",
       "      <th>costa</th>\n",
       "      <th>analytic</th>\n",
       "      <th>...</th>\n",
       "      <th>junction</th>\n",
       "      <th>citrix</th>\n",
       "      <th>integrated</th>\n",
       "      <th>abroad</th>\n",
       "      <th>6wf</th>\n",
       "      <th>seabourne</th>\n",
       "      <th>automated</th>\n",
       "      <th>fundraiser</th>\n",
       "      <th>hempstead</th>\n",
       "      <th>dialysis</th>\n",
       "    </tr>\n",
       "  </thead>\n",
       "  <tbody>\n",
       "    <tr>\n",
       "      <th>0</th>\n",
       "      <td>0</td>\n",
       "      <td>0</td>\n",
       "      <td>0</td>\n",
       "      <td>0</td>\n",
       "      <td>0</td>\n",
       "      <td>0</td>\n",
       "      <td>0</td>\n",
       "      <td>0</td>\n",
       "      <td>0</td>\n",
       "      <td>0</td>\n",
       "      <td>...</td>\n",
       "      <td>0</td>\n",
       "      <td>0</td>\n",
       "      <td>0</td>\n",
       "      <td>0</td>\n",
       "      <td>0</td>\n",
       "      <td>0</td>\n",
       "      <td>0</td>\n",
       "      <td>0</td>\n",
       "      <td>0</td>\n",
       "      <td>0</td>\n",
       "    </tr>\n",
       "    <tr>\n",
       "      <th>1</th>\n",
       "      <td>0</td>\n",
       "      <td>0</td>\n",
       "      <td>0</td>\n",
       "      <td>0</td>\n",
       "      <td>0</td>\n",
       "      <td>0</td>\n",
       "      <td>0</td>\n",
       "      <td>0</td>\n",
       "      <td>0</td>\n",
       "      <td>0</td>\n",
       "      <td>...</td>\n",
       "      <td>0</td>\n",
       "      <td>0</td>\n",
       "      <td>0</td>\n",
       "      <td>1</td>\n",
       "      <td>0</td>\n",
       "      <td>0</td>\n",
       "      <td>0</td>\n",
       "      <td>0</td>\n",
       "      <td>0</td>\n",
       "      <td>0</td>\n",
       "    </tr>\n",
       "    <tr>\n",
       "      <th>2</th>\n",
       "      <td>0</td>\n",
       "      <td>0</td>\n",
       "      <td>0</td>\n",
       "      <td>0</td>\n",
       "      <td>0</td>\n",
       "      <td>0</td>\n",
       "      <td>0</td>\n",
       "      <td>0</td>\n",
       "      <td>0</td>\n",
       "      <td>0</td>\n",
       "      <td>...</td>\n",
       "      <td>0</td>\n",
       "      <td>0</td>\n",
       "      <td>0</td>\n",
       "      <td>0</td>\n",
       "      <td>0</td>\n",
       "      <td>0</td>\n",
       "      <td>0</td>\n",
       "      <td>0</td>\n",
       "      <td>0</td>\n",
       "      <td>0</td>\n",
       "    </tr>\n",
       "    <tr>\n",
       "      <th>3</th>\n",
       "      <td>0</td>\n",
       "      <td>0</td>\n",
       "      <td>0</td>\n",
       "      <td>0</td>\n",
       "      <td>0</td>\n",
       "      <td>0</td>\n",
       "      <td>0</td>\n",
       "      <td>0</td>\n",
       "      <td>0</td>\n",
       "      <td>0</td>\n",
       "      <td>...</td>\n",
       "      <td>0</td>\n",
       "      <td>0</td>\n",
       "      <td>0</td>\n",
       "      <td>0</td>\n",
       "      <td>0</td>\n",
       "      <td>0</td>\n",
       "      <td>0</td>\n",
       "      <td>0</td>\n",
       "      <td>0</td>\n",
       "      <td>0</td>\n",
       "    </tr>\n",
       "    <tr>\n",
       "      <th>4</th>\n",
       "      <td>0</td>\n",
       "      <td>0</td>\n",
       "      <td>0</td>\n",
       "      <td>0</td>\n",
       "      <td>0</td>\n",
       "      <td>0</td>\n",
       "      <td>0</td>\n",
       "      <td>0</td>\n",
       "      <td>0</td>\n",
       "      <td>0</td>\n",
       "      <td>...</td>\n",
       "      <td>0</td>\n",
       "      <td>0</td>\n",
       "      <td>0</td>\n",
       "      <td>0</td>\n",
       "      <td>0</td>\n",
       "      <td>0</td>\n",
       "      <td>0</td>\n",
       "      <td>0</td>\n",
       "      <td>0</td>\n",
       "      <td>0</td>\n",
       "    </tr>\n",
       "  </tbody>\n",
       "</table>\n",
       "<p>5 rows × 4232 columns</p>\n",
       "</div>"
      ],
      "text/plain": [
       "   postgress  cpa  portals  limited  herculaneum  southend  creator  manage  \\\n",
       "0          0    0        0        0            0         0        0       0   \n",
       "1          0    0        0        0            0         0        0       0   \n",
       "2          0    0        0        0            0         0        0       0   \n",
       "3          0    0        0        0            0         0        0       0   \n",
       "4          0    0        0        0            0         0        0       0   \n",
       "\n",
       "   costa  analytic  ...  junction  citrix  integrated  abroad  6wf  seabourne  \\\n",
       "0      0         0  ...         0       0           0       0    0          0   \n",
       "1      0         0  ...         0       0           0       1    0          0   \n",
       "2      0         0  ...         0       0           0       0    0          0   \n",
       "3      0         0  ...         0       0           0       0    0          0   \n",
       "4      0         0  ...         0       0           0       0    0          0   \n",
       "\n",
       "   automated  fundraiser  hempstead  dialysis  \n",
       "0          0           0          0         0  \n",
       "1          0           0          0         0  \n",
       "2          0           0          0         0  \n",
       "3          0           0          0         0  \n",
       "4          0           0          0         0  \n",
       "\n",
       "[5 rows x 4232 columns]"
      ]
     },
     "execution_count": 33,
     "metadata": {},
     "output_type": "execute_result"
    }
   ],
   "source": [
    "test_df_voc = pd.DataFrame([\n",
    "    [row.count(word) for word in vocab]\n",
    "    for row in df_test_clean.iloc[:,1].values], columns=vocab)\n",
    " \n",
    "\n",
    "test_df_voc_train = test_df_voc.copy()\n",
    "\n",
    "test_df_voc_train.head()"
   ]
  },
  {
   "cell_type": "markdown",
   "metadata": {},
   "source": [
    "# Test Data with Logistic Regression"
   ]
  },
  {
   "cell_type": "code",
   "execution_count": 34,
   "metadata": {},
   "outputs": [
    {
     "name": "stdout",
     "output_type": "stream",
     "text": [
      "Accuracy training logistic regression: 0.8982102908277405\n",
      "Precision:  0.6170961148273487\n",
      "Recall:  0.7969789142650925\n"
     ]
    },
    {
     "data": {
      "text/plain": [
       "array([[3107,  316],\n",
       "       [  48,  105]], dtype=int64)"
      ]
     },
     "execution_count": 34,
     "metadata": {},
     "output_type": "execute_result"
    }
   ],
   "source": [
    "logregTest = logreg.predict(test_df_voc_train)\n",
    "logRegAvgClass = logreg.score(test_df_voc_train, df_test_clean['fraudulent'])\n",
    "\n",
    "avgLogRegTest = np.mean(logRegAvgClass)\n",
    "\n",
    "precLogRegTest = precision_score(df_test_clean['fraudulent'], logregTest, average='macro')\n",
    "recallLogRegTest = recall_score(df_test_clean['fraudulent'], logregTest, average='macro')\n",
    "print(\"Accuracy training logistic regression:\", avgLogRegTest)\n",
    "print(\"Precision: \", precLogRegTest)\n",
    "print(\"Recall: \", recallLogRegTest)\n",
    "confusion_matrix(df_test_clean['fraudulent'], logregTest)"
   ]
  },
  {
   "cell_type": "markdown",
   "metadata": {},
   "source": [
    "# Test Data With GaussianNB"
   ]
  },
  {
   "cell_type": "code",
   "execution_count": 35,
   "metadata": {},
   "outputs": [
    {
     "name": "stdout",
     "output_type": "stream",
     "text": [
      "Accuracy training gaussian nb: 0.6364653243847874\n",
      "Precision:  0.5377961179886902\n",
      "Recall:  0.7195729007349361\n"
     ]
    },
    {
     "data": {
      "text/plain": [
       "array([[2152, 1271],\n",
       "       [  29,  124]], dtype=int64)"
      ]
     },
     "execution_count": 35,
     "metadata": {},
     "output_type": "execute_result"
    }
   ],
   "source": [
    "gaussTest = gauss.predict(test_df_voc_train)\n",
    "gaussAvgClass = gauss.score(test_df_voc_train, df_test_clean['fraudulent'])\n",
    "avgGaussTest = np.mean(gaussAvgClass)\n",
    "\n",
    "precGaussTest = precision_score(df_test_clean['fraudulent'], gaussTest, average='macro')\n",
    "recallGaussTest = recall_score(df_test_clean['fraudulent'], gaussTest, average='macro')\n",
    "print(\"Accuracy training gaussian nb:\", avgGaussTest)\n",
    "print(\"Precision: \", precGaussTest)\n",
    "print(\"Recall: \", recallGaussTest)\n",
    "confusion_matrix(df_test_clean['fraudulent'], gaussTest)"
   ]
  },
  {
   "cell_type": "markdown",
   "metadata": {},
   "source": [
    "# Test Data With BernoulliNB"
   ]
  },
  {
   "cell_type": "code",
   "execution_count": 36,
   "metadata": {},
   "outputs": [
    {
     "name": "stdout",
     "output_type": "stream",
     "text": [
      "Accuracy training gaussian nb: 0.95917225950783\n",
      "Precision:  0.7617610708206048\n",
      "Recall:  0.6071672022592267\n"
     ]
    },
    {
     "data": {
      "text/plain": [
       "array([[3396,   27],\n",
       "       [ 119,   34]], dtype=int64)"
      ]
     },
     "execution_count": 36,
     "metadata": {},
     "output_type": "execute_result"
    }
   ],
   "source": [
    "bernTest = bern.predict(test_df_voc_train)\n",
    "bernAvgClass = bern.score(test_df_voc_train, df_test_clean['fraudulent'])\n",
    "avgBernTest = np.mean(bernAvgClass)\n",
    "\n",
    "precBernTest = precision_score(df_test_clean['fraudulent'], bernTest, average='macro')\n",
    "recallBernTest = recall_score(df_test_clean['fraudulent'], bernTest, average='macro')\n",
    "print(\"Accuracy training gaussian nb:\", avgBernTest)\n",
    "print(\"Precision: \", precBernTest)\n",
    "print(\"Recall: \", recallBernTest)\n",
    "confusion_matrix(df_test_clean['fraudulent'], bernTest)"
   ]
  },
  {
   "cell_type": "markdown",
   "metadata": {},
   "source": [
    "# Test Data with SVM "
   ]
  },
  {
   "cell_type": "code",
   "execution_count": 37,
   "metadata": {},
   "outputs": [
    {
     "name": "stdout",
     "output_type": "stream",
     "text": [
      "Accuracy training svm: 0.9010067114093959\n",
      "Precision:  0.6208996424303712\n",
      "Recall:  0.8015615244052632\n"
     ]
    },
    {
     "data": {
      "text/plain": [
       "array([[3116,  307],\n",
       "       [  47,  106]], dtype=int64)"
      ]
     },
     "execution_count": 37,
     "metadata": {},
     "output_type": "execute_result"
    }
   ],
   "source": [
    "svmTest = svm.predict(test_df_voc_train)\n",
    "svmAvgClass = svm.score(test_df_voc_train, df_test_clean['fraudulent'])\n",
    "avgSvmTest = np.mean(svmAvgClass)\n",
    "\n",
    "precSvmTest = precision_score(df_test_clean['fraudulent'], svmTest, average='macro')\n",
    "recallSvmTest = recall_score(df_test_clean['fraudulent'], svmTest, average='macro')\n",
    "\n",
    "print(\"Accuracy training svm:\", avgSvmTest)\n",
    "print(\"Precision: \", precSvmTest)\n",
    "print(\"Recall: \", recallSvmTest)\n",
    "confusion_matrix(df_test_clean['fraudulent'], svmTest)"
   ]
  },
  {
   "cell_type": "markdown",
   "metadata": {},
   "source": [
    "# Discussion of Test Results"
   ]
  },
  {
   "cell_type": "code",
   "execution_count": 38,
   "metadata": {},
   "outputs": [],
   "source": [
    "#Table Creation\n",
    "data = [[\"Logistic Regression\", avgLogRegTest, precLogRegTest, recallLogRegTest],\n",
    "        [\"GaussianNB\", avgGaussTest, precGaussTest, recallGaussTest],\n",
    "        [\"BernoulliNB\", avgBernTest, precBernTest, recallBernTest],\n",
    "        [\"SVM\", avgSvmTest, precSvmTest, recallSvmTest]]\n",
    "df_models = pd.DataFrame(data, columns = [\"Model\", \"Accuracy\", \"Precision\", \"Recall\"])"
   ]
  },
  {
   "cell_type": "code",
   "execution_count": 39,
   "metadata": {},
   "outputs": [
    {
     "data": {
      "text/html": [
       "<div>\n",
       "<style scoped>\n",
       "    .dataframe tbody tr th:only-of-type {\n",
       "        vertical-align: middle;\n",
       "    }\n",
       "\n",
       "    .dataframe tbody tr th {\n",
       "        vertical-align: top;\n",
       "    }\n",
       "\n",
       "    .dataframe thead th {\n",
       "        text-align: right;\n",
       "    }\n",
       "</style>\n",
       "<table border=\"1\" class=\"dataframe\">\n",
       "  <thead>\n",
       "    <tr style=\"text-align: right;\">\n",
       "      <th></th>\n",
       "      <th>Model</th>\n",
       "      <th>Accuracy</th>\n",
       "      <th>Precision</th>\n",
       "      <th>Recall</th>\n",
       "    </tr>\n",
       "  </thead>\n",
       "  <tbody>\n",
       "    <tr>\n",
       "      <th>0</th>\n",
       "      <td>Logistic Regression</td>\n",
       "      <td>0.898210</td>\n",
       "      <td>0.617096</td>\n",
       "      <td>0.796979</td>\n",
       "    </tr>\n",
       "    <tr>\n",
       "      <th>1</th>\n",
       "      <td>GaussianNB</td>\n",
       "      <td>0.636465</td>\n",
       "      <td>0.537796</td>\n",
       "      <td>0.719573</td>\n",
       "    </tr>\n",
       "    <tr>\n",
       "      <th>2</th>\n",
       "      <td>BernoulliNB</td>\n",
       "      <td>0.959172</td>\n",
       "      <td>0.761761</td>\n",
       "      <td>0.607167</td>\n",
       "    </tr>\n",
       "    <tr>\n",
       "      <th>3</th>\n",
       "      <td>SVM</td>\n",
       "      <td>0.901007</td>\n",
       "      <td>0.620900</td>\n",
       "      <td>0.801562</td>\n",
       "    </tr>\n",
       "  </tbody>\n",
       "</table>\n",
       "</div>"
      ],
      "text/plain": [
       "                 Model  Accuracy  Precision    Recall\n",
       "0  Logistic Regression  0.898210   0.617096  0.796979\n",
       "1           GaussianNB  0.636465   0.537796  0.719573\n",
       "2          BernoulliNB  0.959172   0.761761  0.607167\n",
       "3                  SVM  0.901007   0.620900  0.801562"
      ]
     },
     "metadata": {},
     "output_type": "display_data"
    }
   ],
   "source": [
    "display(df_models)"
   ]
  },
  {
   "cell_type": "code",
   "execution_count": 40,
   "metadata": {},
   "outputs": [
    {
     "data": {
      "text/plain": [
       "<function matplotlib.pyplot.show(close=None, block=None)>"
      ]
     },
     "execution_count": 40,
     "metadata": {},
     "output_type": "execute_result"
    },
    {
     "data": {
      "image/png": "[encoded data removed]",
      "text/plain": [
       "<Figure size 1080x432 with 1 Axes>"
      ]
     },
     "metadata": {
      "needs_background": "light"
     },
     "output_type": "display_data"
    }
   ],
   "source": [
    "ax = plt.gca()\n",
    "df_models.plot(title = \"Accuracy of Models\", kind = 'line', x = 'Model', y = \"Accuracy\",\n",
    "              yticks = (0,.1,.2,.3,.4,.5,.6,.7,.8,.9,1), figsize=(15,6), ax=ax)\n",
    "df_models.plot(kind='line', x='Model', y = 'Precision', ax=ax)\n",
    "df_models.plot(kind='line', x='Model', y='Recall', ax=ax)\n",
    "plt.ylabel('Accuracy')\n",
    "plt.legend()\n",
    "plt.show"
   ]
  },
  {
   "cell_type": "code",
   "execution_count": 41,
   "metadata": {},
   "outputs": [
    {
     "data": {
      "image/png": "[encoded data removed]",
      "text/plain": [
       "<Figure size 720x360 with 1 Axes>"
      ]
     },
     "metadata": {
      "needs_background": "light"
     },
     "output_type": "display_data"
    }
   ],
   "source": [
    "barData = [['Classification Rate', avgLogRegTest, avgGaussTest, avgBernTest, avgSvmTest],\n",
    "           ['Precision', precLogRegTest, precGaussTest, precBernTest, precSvmTest],\n",
    "           ['Recall',recallLogRegTest,recallGaussTest, recallBernTest, recallSvmTest]]\n",
    "barDataDf = pd.DataFrame(barData)\n",
    "barDataDf.columns = ['Accuracy Method', 'Log Reg', 'Gaussian', 'Bernoulli','SVM']\n",
    "ax = barDataDf.plot.bar(x= 'Accuracy Method',rot = 0, title=\"Performance of Different Classification Methods\", figsize = (10,5))\n",
    "ax.legend(loc='center left', bbox_to_anchor=(1.0, 0.5))\n",
    "ax.set_ylabel(\"Score\")\n",
    "ax.set_xlabel(\"\")\n",
    "plt.show()"
   ]
  },
  {
   "cell_type": "markdown",
   "metadata": {},
   "source": [
    "Our tests appear to perform well. For all four classifiers, classification stays relatively the same as the training set. Additionally, all four classifiers recive improvement in precision and recall. A potential cause for this increase is that the random sample used for testing may have included more fraudulent job postings than the training set, allowing more examples which yeilded better results. An additional cause for the increase in performance may have been that too much testing data was used. It may have also meant that our training data underfit our testing data. In general, using randomness to pick data points can affect results, so that may have been what occurred. "
   ]
  },
  {
   "cell_type": "markdown",
   "metadata": {},
   "source": [
    "# Conclusion"
   ]
  },
  {
   "cell_type": "markdown",
   "metadata": {},
   "source": [
    "The goal of this project was to develop methods which could accurately predict if a job posting was real or fake. Overall, our project was hindered by that fact that only about 800 entries were considered fraudulent job posting out of over 18,000. This led to a rather unbalanced data set, and less reliable training and testing results. However, it is helpful to acknowledge that the classifiers did indeed work, just not to their fullest potential. The classification rates were mostly high, and the recall rates tended to be better than precision rates. In this case, that is beneficial, as we would prefer that there are more negatives. If a few fraudulent postings manage to slip through, that is acceptable. \n",
    "The Log Reg algorithim was by the highest performing with higher average performance values regarding the test data.\n",
    "With this in mind, the best method to be used to predicted if a job post is real or fake would be using some form of a logarithmic regression model. Why is this? It is most likely due to its simplicity. It is not prone to overfitting, and does not make assumptions about the data. "
   ]
  },
  {
   "cell_type": "markdown",
   "metadata": {},
   "source": [
    "# Future Work\n",
    "If we had the resources, we could expand the data set by including more instances of fraudulent job posts to better train the data. Additionally, we could use more categories to find better predictors of fake posts. There was also the issue of the ongoing struggle with computing power. We were completing this project on older laptops, not high function computational machines. There were many algorithms that may have had a higher success rate, but simply took too long to compute. An example of this is with the SVM classifier. We initially attempted to use a polynomial svm with a higher C value and more kernels, as this would make the trained classifier much more precise. However, it took 30 minutes to train once, and was not viable to include in the project. It did achieve great training results, with a recall and precision rate of over .9. With better machines, it is certain that this classifier would have been the most powerful. It is also possible, of course, that the model would have overfit the data. To find out would have taken immense power. Also, if we had additional team members, we may have found even more innovative ways to manipulate this data, whether that be through advanced graphs or unkown algorithms. We would love to explore these results with more user information. By this we mean, how many false postings did users click on? How many applied to the fraudulent postings. Knowing this information would be helpful to determine how much of an issue fraudulent job postings are currently. Also, if we were to compile this information over years, we may be able to predict how many of these postings will exist in the upcoming years. Maybe they increased during the pandemic, but will they increase in the future as well?"
   ]
  },
  {
   "cell_type": "markdown",
   "metadata": {},
   "source": [
    "# Contributions\n",
    "We worked together completely on each section of this project. This includes all forms of research, training and testing."
   ]
  },
  {
   "cell_type": "code",
   "execution_count": null,
   "metadata": {},
   "outputs": [],
   "source": []
  }
 ],
 "metadata": {
  "kernelspec": {
   "display_name": "Python 3",
   "language": "python",
   "name": "python3"
  },
  "language_info": {
   "codemirror_mode": {
    "name": "ipython",
    "version": 3
   },
   "file_extension": ".py",
   "mimetype": "text/x-python",
   "name": "python",
   "nbconvert_exporter": "python",
   "pygments_lexer": "ipython3",
   "version": "3.8.5"
  }
 },
 "nbformat": 4,
 "nbformat_minor": 4
}
